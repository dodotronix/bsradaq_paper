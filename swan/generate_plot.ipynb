{
 "cells": [
  {
   "cell_type": "code",
   "execution_count": 22,
   "id": "7d1506fe",
   "metadata": {},
   "outputs": [
    {
     "name": "stdout",
     "output_type": "stream",
     "text": [
      "{'LHC.BSRA.UA47.B1:VFC_ABORT_GAP_RAW_DATA_SPILL': (array([1.69817341e+09]), array([array([  -30,     3,    70,    27,     7,   -29,   -72,    62,    21,\n",
      "                -13,   -54,   -87,    45,   -32,    -2,   -21,    50,   918,\n",
      "               1633,  1677,  1906,  1869,  1627,  1578,  1492,  1575,  1486,\n",
      "               1546,  1602,  1538,  1487,  1563,  1615,  1552,  1586,  1558,\n",
      "               1616,  1745,  4297,  9168, 10069, 12266, 14336, 15592, 16648,\n",
      "              18297, 20273, 10425,   462,   141,    -8,    20,    11,    45,\n",
      "                -27,   -45,   -67,  -124,   -65,   -48,   -91,   -58,   -77,\n",
      "                -13], dtype=int32)                                          ],\n",
      "      dtype=object))}\n",
      "{'LHC.BSRA.US45.B1:ABORT_GAP_RAW_DATA_SPILL': (array([1.69817341e+09]), array([array([   1,   11,  -12,   -3,  -19,    4,   -4,    9,    0,    2,   -3,\n",
      "                 1,  -10,   -5,  -13,    7,   -6,  230,  318,  334,  374,  388,\n",
      "               325,  310,  328,  310,  329,  320,  320,  323,  312,  343,  318,\n",
      "               351,  345,  351,  353,  358,  801, 1834, 2053, 2477, 2969, 3177,\n",
      "              3445, 3760, 4223, 2205,  262,  202,  121,  118,   78,   84,   22,\n",
      "                49,  -19,   15,  -38,  -27,  -59,  -59,  -84,  -85], dtype=int32)],\n",
      "      dtype=object))}\n"
     ]
    },
    {
     "data": {
      "image/png": "[encoded data removed]",
      "text/plain": [
       "<Figure size 432x288 with 1 Axes>"
      ]
     },
     "metadata": {
      "needs_background": "light"
     },
     "output_type": "display_data"
    }
   ],
   "source": [
    "# coding: utf-8\n",
    "\n",
    "import sys, os\n",
    "import numpy as np\n",
    "\n",
    "import matplotlib.pyplot as plt\n",
    "import matplotlib.ticker as ticker\n",
    "import pytimber\n",
    "\n",
    "ldb = pytimber.LoggingDB(spark_session=spark)\n",
    "\n",
    "t1 = '2023-10-24 19:50:10.900'\n",
    "t2 = '2023-10-24 19:50:11.000'\n",
    "\n",
    "t1_current = '2023-10-24 19:50:10.000'\n",
    "t2_current = '2023-10-24 19:50:11.000'\n",
    "\n",
    "agm_new = 'LHC.BSRA.UA47.B1:VFC_ABORT_GAP_RAW_DATA_SPILL'\n",
    "agm_cur = 'LHC.BSRA.US45.B1:ABORT_GAP_RAW_DATA_SPILL'\n",
    "\n",
    "d = ldb.get(agm_new, t1, t2)\n",
    "dd = ldb.get(agm_cur, t1_current, t2_current)\n",
    "\n",
    "print(d)\n",
    "print(dd)\n",
    "\n",
    "timestamp, data = d[agm_new]\n",
    "timestamp1, data1 = dd[agm_cur]\n",
    "\n",
    "np.savetxt(\"vfc_abort_gap_raw_data_spill.txt\", data[0])\n",
    "np.savetxt(\"abort_gap_raw_data_spill.txt\", data1[0])\n",
    "\n",
    "plt.plot(data[0])\n",
    "plt.plot(4.8*data1[0])\n",
    "\n",
    "plt.draw()\n",
    "\n"
   ]
  },
  {
   "cell_type": "code",
   "execution_count": null,
   "id": "ccbc1ef5",
   "metadata": {},
   "outputs": [],
   "source": []
  }
 ],
 "metadata": {
  "kernelspec": {
   "display_name": "Python 3",
   "language": "python",
   "name": "python3"
  },
  "language_info": {
   "codemirror_mode": {
    "name": "ipython",
    "version": 3
   },
   "file_extension": ".py",
   "mimetype": "text/x-python",
   "name": "python",
   "nbconvert_exporter": "python",
   "pygments_lexer": "ipython3",
   "version": "3.9.12"
  },
  "sparkconnect": {
   "bundled_options": [
    "NXCALS"
   ],
   "list_of_options": []
  }
 },
 "nbformat": 4,
 "nbformat_minor": 5
}
